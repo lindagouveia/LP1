{
  "nbformat": 4,
  "nbformat_minor": 0,
  "metadata": {
    "colab": {
      "provenance": [],
      "authorship_tag": "ABX9TyMxMtubFf6wfxd1RKvW6h+L",
      "include_colab_link": true
    },
    "kernelspec": {
      "name": "python3",
      "display_name": "Python 3"
    },
    "language_info": {
      "name": "python"
    }
  },
  "cells": [
    {
      "cell_type": "markdown",
      "metadata": {
        "id": "view-in-github",
        "colab_type": "text"
      },
      "source": [
        "<a href=\"https://colab.research.google.com/github/lindagouveia/LP1/blob/main/ProjetoNP3.ipynb\" target=\"_parent\"><img src=\"https://colab.research.google.com/assets/colab-badge.svg\" alt=\"Open In Colab\"/></a>"
      ]
    },
    {
      "cell_type": "markdown",
      "source": [
        "**Copa do Mundo**\n",
        "\n",
        "Nesse projeto, utilizaremos o dataset https://www.kaggle.com/datasets/abecklas/fifa-world-cup para absorver dados de copas passadas e assim realizar uma análise descritiva e exploratória dos dados."
      ],
      "metadata": {
        "id": "q0xF24go6tv3"
      }
    },
    {
      "cell_type": "markdown",
      "source": [
        "Primeiramente, precisamos entender que a base compreende a informação de vinte edições de Copa do Mundo, entre 1930 e 2014 - aqui cabe-se ressaltar que as edições de 1942 e 1946 não ocorreram em virtude da Segunda Guerra Mundial."
      ],
      "metadata": {
        "id": "BtUptsYc7xe0"
      }
    },
    {
      "cell_type": "code",
      "execution_count": null,
      "metadata": {
        "id": "kSZIFmGv6rag"
      },
      "outputs": [],
      "source": [
        "import numpy as np\n",
        "import pandas as pd\n",
        "import matplotlib.pyplot as plt\n",
        "import seaborn as sns\n",
        "%matplotlib inline\n",
        "import plotly as py\n",
        "import cufflinks as cf\n",
        "\n",
        "import os\n",
        "for dirname, _, filenames in os.walk('/kaggle/input'):\n",
        "    for filename in filenames:\n",
        "        print(os.path.join(dirname, filename))"
      ]
    },
    {
      "cell_type": "code",
      "source": [
        "players = pd.read_csv(\"/content/WorldCupPlayers.csv\", encoding='utf-8')\n",
        "matches = pd.read_csv(\"/content/WorldCupMatches.csv\", encoding='utf-8')\n",
        "world_cup = pd.read_csv(\"/content/WorldCups.csv\", encoding='utf-8')"
      ],
      "metadata": {
        "id": "0MgDRkok8EFp"
      },
      "execution_count": null,
      "outputs": []
    },
    {
      "cell_type": "code",
      "source": [
        "players.head()"
      ],
      "metadata": {
        "colab": {
          "base_uri": "https://localhost:8080/",
          "height": 206
        },
        "id": "KelK1ZQe9DXo",
        "outputId": "73969c58-4bc8-47f2-eaf2-d8c6d93dac8c"
      },
      "execution_count": 71,
      "outputs": [
        {
          "output_type": "execute_result",
          "data": {
            "text/plain": [
              "   RoundID MatchID Team Initials           Coach Name Line-up Shirt Number  \\\n",
              "0      201  1096.0           FRA  CAUDRON Raoul (FRA)       S          0.0   \n",
              "1      201  1096.0           MEX     LUQUE Juan (MEX)       S          0.0   \n",
              "2      201  1096.0           FRA  CAUDRON Raoul (FRA)       S          0.0   \n",
              "3      201  1096.0           MEX     LUQUE Juan (MEX)       S          0.0   \n",
              "4      201  1096.0           FRA  CAUDRON Raoul (FRA)       S          0.0   \n",
              "\n",
              "        Player Name Position Event  \n",
              "0       Alex THEPOT       GK     -  \n",
              "1   Oscar BONFIGLIO       GK     -  \n",
              "2  Marcel LANGILLER        -  G40'  \n",
              "3      Juan CARRENO        -  G70'  \n",
              "4   Ernest LIBERATI        -     -  "
            ],
            "text/html": [
              "\n",
              "  <div id=\"df-b80bae93-add2-402a-b278-60eda0475c3d\">\n",
              "    <div class=\"colab-df-container\">\n",
              "      <div>\n",
              "<style scoped>\n",
              "    .dataframe tbody tr th:only-of-type {\n",
              "        vertical-align: middle;\n",
              "    }\n",
              "\n",
              "    .dataframe tbody tr th {\n",
              "        vertical-align: top;\n",
              "    }\n",
              "\n",
              "    .dataframe thead th {\n",
              "        text-align: right;\n",
              "    }\n",
              "</style>\n",
              "<table border=\"1\" class=\"dataframe\">\n",
              "  <thead>\n",
              "    <tr style=\"text-align: right;\">\n",
              "      <th></th>\n",
              "      <th>RoundID</th>\n",
              "      <th>MatchID</th>\n",
              "      <th>Team Initials</th>\n",
              "      <th>Coach Name</th>\n",
              "      <th>Line-up</th>\n",
              "      <th>Shirt Number</th>\n",
              "      <th>Player Name</th>\n",
              "      <th>Position</th>\n",
              "      <th>Event</th>\n",
              "    </tr>\n",
              "  </thead>\n",
              "  <tbody>\n",
              "    <tr>\n",
              "      <th>0</th>\n",
              "      <td>201</td>\n",
              "      <td>1096.0</td>\n",
              "      <td>FRA</td>\n",
              "      <td>CAUDRON Raoul (FRA)</td>\n",
              "      <td>S</td>\n",
              "      <td>0.0</td>\n",
              "      <td>Alex THEPOT</td>\n",
              "      <td>GK</td>\n",
              "      <td>-</td>\n",
              "    </tr>\n",
              "    <tr>\n",
              "      <th>1</th>\n",
              "      <td>201</td>\n",
              "      <td>1096.0</td>\n",
              "      <td>MEX</td>\n",
              "      <td>LUQUE Juan (MEX)</td>\n",
              "      <td>S</td>\n",
              "      <td>0.0</td>\n",
              "      <td>Oscar BONFIGLIO</td>\n",
              "      <td>GK</td>\n",
              "      <td>-</td>\n",
              "    </tr>\n",
              "    <tr>\n",
              "      <th>2</th>\n",
              "      <td>201</td>\n",
              "      <td>1096.0</td>\n",
              "      <td>FRA</td>\n",
              "      <td>CAUDRON Raoul (FRA)</td>\n",
              "      <td>S</td>\n",
              "      <td>0.0</td>\n",
              "      <td>Marcel LANGILLER</td>\n",
              "      <td>-</td>\n",
              "      <td>G40'</td>\n",
              "    </tr>\n",
              "    <tr>\n",
              "      <th>3</th>\n",
              "      <td>201</td>\n",
              "      <td>1096.0</td>\n",
              "      <td>MEX</td>\n",
              "      <td>LUQUE Juan (MEX)</td>\n",
              "      <td>S</td>\n",
              "      <td>0.0</td>\n",
              "      <td>Juan CARRENO</td>\n",
              "      <td>-</td>\n",
              "      <td>G70'</td>\n",
              "    </tr>\n",
              "    <tr>\n",
              "      <th>4</th>\n",
              "      <td>201</td>\n",
              "      <td>1096.0</td>\n",
              "      <td>FRA</td>\n",
              "      <td>CAUDRON Raoul (FRA)</td>\n",
              "      <td>S</td>\n",
              "      <td>0.0</td>\n",
              "      <td>Ernest LIBERATI</td>\n",
              "      <td>-</td>\n",
              "      <td>-</td>\n",
              "    </tr>\n",
              "  </tbody>\n",
              "</table>\n",
              "</div>\n",
              "      <button class=\"colab-df-convert\" onclick=\"convertToInteractive('df-b80bae93-add2-402a-b278-60eda0475c3d')\"\n",
              "              title=\"Convert this dataframe to an interactive table.\"\n",
              "              style=\"display:none;\">\n",
              "        \n",
              "  <svg xmlns=\"http://www.w3.org/2000/svg\" height=\"24px\"viewBox=\"0 0 24 24\"\n",
              "       width=\"24px\">\n",
              "    <path d=\"M0 0h24v24H0V0z\" fill=\"none\"/>\n",
              "    <path d=\"M18.56 5.44l.94 2.06.94-2.06 2.06-.94-2.06-.94-.94-2.06-.94 2.06-2.06.94zm-11 1L8.5 8.5l.94-2.06 2.06-.94-2.06-.94L8.5 2.5l-.94 2.06-2.06.94zm10 10l.94 2.06.94-2.06 2.06-.94-2.06-.94-.94-2.06-.94 2.06-2.06.94z\"/><path d=\"M17.41 7.96l-1.37-1.37c-.4-.4-.92-.59-1.43-.59-.52 0-1.04.2-1.43.59L10.3 9.45l-7.72 7.72c-.78.78-.78 2.05 0 2.83L4 21.41c.39.39.9.59 1.41.59.51 0 1.02-.2 1.41-.59l7.78-7.78 2.81-2.81c.8-.78.8-2.07 0-2.86zM5.41 20L4 18.59l7.72-7.72 1.47 1.35L5.41 20z\"/>\n",
              "  </svg>\n",
              "      </button>\n",
              "      \n",
              "  <style>\n",
              "    .colab-df-container {\n",
              "      display:flex;\n",
              "      flex-wrap:wrap;\n",
              "      gap: 12px;\n",
              "    }\n",
              "\n",
              "    .colab-df-convert {\n",
              "      background-color: #E8F0FE;\n",
              "      border: none;\n",
              "      border-radius: 50%;\n",
              "      cursor: pointer;\n",
              "      display: none;\n",
              "      fill: #1967D2;\n",
              "      height: 32px;\n",
              "      padding: 0 0 0 0;\n",
              "      width: 32px;\n",
              "    }\n",
              "\n",
              "    .colab-df-convert:hover {\n",
              "      background-color: #E2EBFA;\n",
              "      box-shadow: 0px 1px 2px rgba(60, 64, 67, 0.3), 0px 1px 3px 1px rgba(60, 64, 67, 0.15);\n",
              "      fill: #174EA6;\n",
              "    }\n",
              "\n",
              "    [theme=dark] .colab-df-convert {\n",
              "      background-color: #3B4455;\n",
              "      fill: #D2E3FC;\n",
              "    }\n",
              "\n",
              "    [theme=dark] .colab-df-convert:hover {\n",
              "      background-color: #434B5C;\n",
              "      box-shadow: 0px 1px 3px 1px rgba(0, 0, 0, 0.15);\n",
              "      filter: drop-shadow(0px 1px 2px rgba(0, 0, 0, 0.3));\n",
              "      fill: #FFFFFF;\n",
              "    }\n",
              "  </style>\n",
              "\n",
              "      <script>\n",
              "        const buttonEl =\n",
              "          document.querySelector('#df-b80bae93-add2-402a-b278-60eda0475c3d button.colab-df-convert');\n",
              "        buttonEl.style.display =\n",
              "          google.colab.kernel.accessAllowed ? 'block' : 'none';\n",
              "\n",
              "        async function convertToInteractive(key) {\n",
              "          const element = document.querySelector('#df-b80bae93-add2-402a-b278-60eda0475c3d');\n",
              "          const dataTable =\n",
              "            await google.colab.kernel.invokeFunction('convertToInteractive',\n",
              "                                                     [key], {});\n",
              "          if (!dataTable) return;\n",
              "\n",
              "          const docLinkHtml = 'Like what you see? Visit the ' +\n",
              "            '<a target=\"_blank\" href=https://colab.research.google.com/notebooks/data_table.ipynb>data table notebook</a>'\n",
              "            + ' to learn more about interactive tables.';\n",
              "          element.innerHTML = '';\n",
              "          dataTable['output_type'] = 'display_data';\n",
              "          await google.colab.output.renderOutput(dataTable, element);\n",
              "          const docLink = document.createElement('div');\n",
              "          docLink.innerHTML = docLinkHtml;\n",
              "          element.appendChild(docLink);\n",
              "        }\n",
              "      </script>\n",
              "    </div>\n",
              "  </div>\n",
              "  "
            ]
          },
          "metadata": {},
          "execution_count": 71
        }
      ]
    },
    {
      "cell_type": "code",
      "source": [
        "matches.head()"
      ],
      "metadata": {
        "colab": {
          "base_uri": "https://localhost:8080/",
          "height": 525
        },
        "id": "m_oNQLYK9Elg",
        "outputId": "0517b1c0-595c-4823-bdf0-e30b4da4560b"
      },
      "execution_count": 72,
      "outputs": [
        {
          "output_type": "execute_result",
          "data": {
            "text/plain": [
              "     Year              Datetime    Stage         Stadium         City  \\\n",
              "0  1930.0  13 Jul 1930 - 15:00   Group 1         Pocitos  Montevideo    \n",
              "1  1930.0  13 Jul 1930 - 15:00   Group 4  Parque Central  Montevideo    \n",
              "2  1930.0  14 Jul 1930 - 12:45   Group 2  Parque Central  Montevideo    \n",
              "3  1930.0  14 Jul 1930 - 14:50   Group 3         Pocitos  Montevideo    \n",
              "4  1930.0  15 Jul 1930 - 16:00   Group 1  Parque Central  Montevideo    \n",
              "\n",
              "  Home Team Name  Home Team Goals  Away Team Goals Away Team Name  \\\n",
              "0         France              4.0              1.0         Mexico   \n",
              "1            USA              3.0              0.0        Belgium   \n",
              "2     Yugoslavia              2.0              1.0         Brazil   \n",
              "3        Romania              3.0              1.0           Peru   \n",
              "4      Argentina              1.0              0.0         France   \n",
              "\n",
              "  Win conditions  ... Half-time Home Goals  Half-time Away Goals  \\\n",
              "0                 ...                  3.0                   0.0   \n",
              "1                 ...                  2.0                   0.0   \n",
              "2                 ...                  2.0                   0.0   \n",
              "3                 ...                  1.0                   0.0   \n",
              "4                 ...                  0.0                   0.0   \n",
              "\n",
              "                  Referee               Assistant 1  \\\n",
              "0  LOMBARDI Domingo (URU)     CRISTOPHE Henry (BEL)   \n",
              "1       MACIAS Jose (ARG)  MATEUCCI Francisco (URU)   \n",
              "2     TEJADA Anibal (URU)   VALLARINO Ricardo (URU)   \n",
              "3   WARNKEN Alberto (CHI)       LANGENUS Jean (BEL)   \n",
              "4     REGO Gilberto (BRA)      SAUCEDO Ulises (BOL)   \n",
              "\n",
              "                  Assistant 2 RoundID  MatchID  Home Team Initials  \\\n",
              "0         REGO Gilberto (BRA)   201.0   1096.0                 FRA   \n",
              "1       WARNKEN Alberto (CHI)   201.0   1090.0                 USA   \n",
              "2         BALWAY Thomas (FRA)   201.0   1093.0                 YUG   \n",
              "3    MATEUCCI Francisco (URU)   201.0   1098.0                 ROU   \n",
              "4  RADULESCU Constantin (ROU)   201.0   1085.0                 ARG   \n",
              "\n",
              "  Away Team Initials TotalGols  \n",
              "0                MEX       5.0  \n",
              "1                BEL       3.0  \n",
              "2                BRA       3.0  \n",
              "3                PER       4.0  \n",
              "4                FRA       1.0  \n",
              "\n",
              "[5 rows x 21 columns]"
            ],
            "text/html": [
              "\n",
              "  <div id=\"df-6f5d5179-121c-4f08-af36-0a62b6ae131f\">\n",
              "    <div class=\"colab-df-container\">\n",
              "      <div>\n",
              "<style scoped>\n",
              "    .dataframe tbody tr th:only-of-type {\n",
              "        vertical-align: middle;\n",
              "    }\n",
              "\n",
              "    .dataframe tbody tr th {\n",
              "        vertical-align: top;\n",
              "    }\n",
              "\n",
              "    .dataframe thead th {\n",
              "        text-align: right;\n",
              "    }\n",
              "</style>\n",
              "<table border=\"1\" class=\"dataframe\">\n",
              "  <thead>\n",
              "    <tr style=\"text-align: right;\">\n",
              "      <th></th>\n",
              "      <th>Year</th>\n",
              "      <th>Datetime</th>\n",
              "      <th>Stage</th>\n",
              "      <th>Stadium</th>\n",
              "      <th>City</th>\n",
              "      <th>Home Team Name</th>\n",
              "      <th>Home Team Goals</th>\n",
              "      <th>Away Team Goals</th>\n",
              "      <th>Away Team Name</th>\n",
              "      <th>Win conditions</th>\n",
              "      <th>...</th>\n",
              "      <th>Half-time Home Goals</th>\n",
              "      <th>Half-time Away Goals</th>\n",
              "      <th>Referee</th>\n",
              "      <th>Assistant 1</th>\n",
              "      <th>Assistant 2</th>\n",
              "      <th>RoundID</th>\n",
              "      <th>MatchID</th>\n",
              "      <th>Home Team Initials</th>\n",
              "      <th>Away Team Initials</th>\n",
              "      <th>TotalGols</th>\n",
              "    </tr>\n",
              "  </thead>\n",
              "  <tbody>\n",
              "    <tr>\n",
              "      <th>0</th>\n",
              "      <td>1930.0</td>\n",
              "      <td>13 Jul 1930 - 15:00</td>\n",
              "      <td>Group 1</td>\n",
              "      <td>Pocitos</td>\n",
              "      <td>Montevideo</td>\n",
              "      <td>France</td>\n",
              "      <td>4.0</td>\n",
              "      <td>1.0</td>\n",
              "      <td>Mexico</td>\n",
              "      <td></td>\n",
              "      <td>...</td>\n",
              "      <td>3.0</td>\n",
              "      <td>0.0</td>\n",
              "      <td>LOMBARDI Domingo (URU)</td>\n",
              "      <td>CRISTOPHE Henry (BEL)</td>\n",
              "      <td>REGO Gilberto (BRA)</td>\n",
              "      <td>201.0</td>\n",
              "      <td>1096.0</td>\n",
              "      <td>FRA</td>\n",
              "      <td>MEX</td>\n",
              "      <td>5.0</td>\n",
              "    </tr>\n",
              "    <tr>\n",
              "      <th>1</th>\n",
              "      <td>1930.0</td>\n",
              "      <td>13 Jul 1930 - 15:00</td>\n",
              "      <td>Group 4</td>\n",
              "      <td>Parque Central</td>\n",
              "      <td>Montevideo</td>\n",
              "      <td>USA</td>\n",
              "      <td>3.0</td>\n",
              "      <td>0.0</td>\n",
              "      <td>Belgium</td>\n",
              "      <td></td>\n",
              "      <td>...</td>\n",
              "      <td>2.0</td>\n",
              "      <td>0.0</td>\n",
              "      <td>MACIAS Jose (ARG)</td>\n",
              "      <td>MATEUCCI Francisco (URU)</td>\n",
              "      <td>WARNKEN Alberto (CHI)</td>\n",
              "      <td>201.0</td>\n",
              "      <td>1090.0</td>\n",
              "      <td>USA</td>\n",
              "      <td>BEL</td>\n",
              "      <td>3.0</td>\n",
              "    </tr>\n",
              "    <tr>\n",
              "      <th>2</th>\n",
              "      <td>1930.0</td>\n",
              "      <td>14 Jul 1930 - 12:45</td>\n",
              "      <td>Group 2</td>\n",
              "      <td>Parque Central</td>\n",
              "      <td>Montevideo</td>\n",
              "      <td>Yugoslavia</td>\n",
              "      <td>2.0</td>\n",
              "      <td>1.0</td>\n",
              "      <td>Brazil</td>\n",
              "      <td></td>\n",
              "      <td>...</td>\n",
              "      <td>2.0</td>\n",
              "      <td>0.0</td>\n",
              "      <td>TEJADA Anibal (URU)</td>\n",
              "      <td>VALLARINO Ricardo (URU)</td>\n",
              "      <td>BALWAY Thomas (FRA)</td>\n",
              "      <td>201.0</td>\n",
              "      <td>1093.0</td>\n",
              "      <td>YUG</td>\n",
              "      <td>BRA</td>\n",
              "      <td>3.0</td>\n",
              "    </tr>\n",
              "    <tr>\n",
              "      <th>3</th>\n",
              "      <td>1930.0</td>\n",
              "      <td>14 Jul 1930 - 14:50</td>\n",
              "      <td>Group 3</td>\n",
              "      <td>Pocitos</td>\n",
              "      <td>Montevideo</td>\n",
              "      <td>Romania</td>\n",
              "      <td>3.0</td>\n",
              "      <td>1.0</td>\n",
              "      <td>Peru</td>\n",
              "      <td></td>\n",
              "      <td>...</td>\n",
              "      <td>1.0</td>\n",
              "      <td>0.0</td>\n",
              "      <td>WARNKEN Alberto (CHI)</td>\n",
              "      <td>LANGENUS Jean (BEL)</td>\n",
              "      <td>MATEUCCI Francisco (URU)</td>\n",
              "      <td>201.0</td>\n",
              "      <td>1098.0</td>\n",
              "      <td>ROU</td>\n",
              "      <td>PER</td>\n",
              "      <td>4.0</td>\n",
              "    </tr>\n",
              "    <tr>\n",
              "      <th>4</th>\n",
              "      <td>1930.0</td>\n",
              "      <td>15 Jul 1930 - 16:00</td>\n",
              "      <td>Group 1</td>\n",
              "      <td>Parque Central</td>\n",
              "      <td>Montevideo</td>\n",
              "      <td>Argentina</td>\n",
              "      <td>1.0</td>\n",
              "      <td>0.0</td>\n",
              "      <td>France</td>\n",
              "      <td></td>\n",
              "      <td>...</td>\n",
              "      <td>0.0</td>\n",
              "      <td>0.0</td>\n",
              "      <td>REGO Gilberto (BRA)</td>\n",
              "      <td>SAUCEDO Ulises (BOL)</td>\n",
              "      <td>RADULESCU Constantin (ROU)</td>\n",
              "      <td>201.0</td>\n",
              "      <td>1085.0</td>\n",
              "      <td>ARG</td>\n",
              "      <td>FRA</td>\n",
              "      <td>1.0</td>\n",
              "    </tr>\n",
              "  </tbody>\n",
              "</table>\n",
              "<p>5 rows × 21 columns</p>\n",
              "</div>\n",
              "      <button class=\"colab-df-convert\" onclick=\"convertToInteractive('df-6f5d5179-121c-4f08-af36-0a62b6ae131f')\"\n",
              "              title=\"Convert this dataframe to an interactive table.\"\n",
              "              style=\"display:none;\">\n",
              "        \n",
              "  <svg xmlns=\"http://www.w3.org/2000/svg\" height=\"24px\"viewBox=\"0 0 24 24\"\n",
              "       width=\"24px\">\n",
              "    <path d=\"M0 0h24v24H0V0z\" fill=\"none\"/>\n",
              "    <path d=\"M18.56 5.44l.94 2.06.94-2.06 2.06-.94-2.06-.94-.94-2.06-.94 2.06-2.06.94zm-11 1L8.5 8.5l.94-2.06 2.06-.94-2.06-.94L8.5 2.5l-.94 2.06-2.06.94zm10 10l.94 2.06.94-2.06 2.06-.94-2.06-.94-.94-2.06-.94 2.06-2.06.94z\"/><path d=\"M17.41 7.96l-1.37-1.37c-.4-.4-.92-.59-1.43-.59-.52 0-1.04.2-1.43.59L10.3 9.45l-7.72 7.72c-.78.78-.78 2.05 0 2.83L4 21.41c.39.39.9.59 1.41.59.51 0 1.02-.2 1.41-.59l7.78-7.78 2.81-2.81c.8-.78.8-2.07 0-2.86zM5.41 20L4 18.59l7.72-7.72 1.47 1.35L5.41 20z\"/>\n",
              "  </svg>\n",
              "      </button>\n",
              "      \n",
              "  <style>\n",
              "    .colab-df-container {\n",
              "      display:flex;\n",
              "      flex-wrap:wrap;\n",
              "      gap: 12px;\n",
              "    }\n",
              "\n",
              "    .colab-df-convert {\n",
              "      background-color: #E8F0FE;\n",
              "      border: none;\n",
              "      border-radius: 50%;\n",
              "      cursor: pointer;\n",
              "      display: none;\n",
              "      fill: #1967D2;\n",
              "      height: 32px;\n",
              "      padding: 0 0 0 0;\n",
              "      width: 32px;\n",
              "    }\n",
              "\n",
              "    .colab-df-convert:hover {\n",
              "      background-color: #E2EBFA;\n",
              "      box-shadow: 0px 1px 2px rgba(60, 64, 67, 0.3), 0px 1px 3px 1px rgba(60, 64, 67, 0.15);\n",
              "      fill: #174EA6;\n",
              "    }\n",
              "\n",
              "    [theme=dark] .colab-df-convert {\n",
              "      background-color: #3B4455;\n",
              "      fill: #D2E3FC;\n",
              "    }\n",
              "\n",
              "    [theme=dark] .colab-df-convert:hover {\n",
              "      background-color: #434B5C;\n",
              "      box-shadow: 0px 1px 3px 1px rgba(0, 0, 0, 0.15);\n",
              "      filter: drop-shadow(0px 1px 2px rgba(0, 0, 0, 0.3));\n",
              "      fill: #FFFFFF;\n",
              "    }\n",
              "  </style>\n",
              "\n",
              "      <script>\n",
              "        const buttonEl =\n",
              "          document.querySelector('#df-6f5d5179-121c-4f08-af36-0a62b6ae131f button.colab-df-convert');\n",
              "        buttonEl.style.display =\n",
              "          google.colab.kernel.accessAllowed ? 'block' : 'none';\n",
              "\n",
              "        async function convertToInteractive(key) {\n",
              "          const element = document.querySelector('#df-6f5d5179-121c-4f08-af36-0a62b6ae131f');\n",
              "          const dataTable =\n",
              "            await google.colab.kernel.invokeFunction('convertToInteractive',\n",
              "                                                     [key], {});\n",
              "          if (!dataTable) return;\n",
              "\n",
              "          const docLinkHtml = 'Like what you see? Visit the ' +\n",
              "            '<a target=\"_blank\" href=https://colab.research.google.com/notebooks/data_table.ipynb>data table notebook</a>'\n",
              "            + ' to learn more about interactive tables.';\n",
              "          element.innerHTML = '';\n",
              "          dataTable['output_type'] = 'display_data';\n",
              "          await google.colab.output.renderOutput(dataTable, element);\n",
              "          const docLink = document.createElement('div');\n",
              "          docLink.innerHTML = docLinkHtml;\n",
              "          element.appendChild(docLink);\n",
              "        }\n",
              "      </script>\n",
              "    </div>\n",
              "  </div>\n",
              "  "
            ]
          },
          "metadata": {},
          "execution_count": 72
        }
      ]
    },
    {
      "cell_type": "code",
      "source": [
        "world_cup.head()"
      ],
      "metadata": {
        "colab": {
          "base_uri": "https://localhost:8080/",
          "height": 206
        },
        "id": "qRPPj0FK9Qta",
        "outputId": "7a70ad4a-85c6-424d-df44-8a801df79fec"
      },
      "execution_count": 73,
      "outputs": [
        {
          "output_type": "execute_result",
          "data": {
            "text/plain": [
              "   Year      Country   Winner      Runners-Up    Third      Fourth  \\\n",
              "0  1930      Uruguay  Uruguay       Argentina      USA  Yugoslavia   \n",
              "1  1934        Italy    Italy  Czechoslovakia  Germany     Austria   \n",
              "2  1938       France    Italy         Hungary   Brazil      Sweden   \n",
              "3  1950       Brazil  Uruguay          Brazil   Sweden       Spain   \n",
              "4  1954  Switzerland  Germany         Hungary  Austria     Uruguay   \n",
              "\n",
              "   GoalsScored  QualifiedTeams  MatchesPlayed Attendance  \n",
              "0           70              13             18    590.549  \n",
              "1           70              16             17    363.000  \n",
              "2           84              15             18    375.700  \n",
              "3           88              13             22  1.045.246  \n",
              "4          140              16             26    768.607  "
            ],
            "text/html": [
              "\n",
              "  <div id=\"df-6d03089b-48cb-4ad7-a3db-c47440d69647\">\n",
              "    <div class=\"colab-df-container\">\n",
              "      <div>\n",
              "<style scoped>\n",
              "    .dataframe tbody tr th:only-of-type {\n",
              "        vertical-align: middle;\n",
              "    }\n",
              "\n",
              "    .dataframe tbody tr th {\n",
              "        vertical-align: top;\n",
              "    }\n",
              "\n",
              "    .dataframe thead th {\n",
              "        text-align: right;\n",
              "    }\n",
              "</style>\n",
              "<table border=\"1\" class=\"dataframe\">\n",
              "  <thead>\n",
              "    <tr style=\"text-align: right;\">\n",
              "      <th></th>\n",
              "      <th>Year</th>\n",
              "      <th>Country</th>\n",
              "      <th>Winner</th>\n",
              "      <th>Runners-Up</th>\n",
              "      <th>Third</th>\n",
              "      <th>Fourth</th>\n",
              "      <th>GoalsScored</th>\n",
              "      <th>QualifiedTeams</th>\n",
              "      <th>MatchesPlayed</th>\n",
              "      <th>Attendance</th>\n",
              "    </tr>\n",
              "  </thead>\n",
              "  <tbody>\n",
              "    <tr>\n",
              "      <th>0</th>\n",
              "      <td>1930</td>\n",
              "      <td>Uruguay</td>\n",
              "      <td>Uruguay</td>\n",
              "      <td>Argentina</td>\n",
              "      <td>USA</td>\n",
              "      <td>Yugoslavia</td>\n",
              "      <td>70</td>\n",
              "      <td>13</td>\n",
              "      <td>18</td>\n",
              "      <td>590.549</td>\n",
              "    </tr>\n",
              "    <tr>\n",
              "      <th>1</th>\n",
              "      <td>1934</td>\n",
              "      <td>Italy</td>\n",
              "      <td>Italy</td>\n",
              "      <td>Czechoslovakia</td>\n",
              "      <td>Germany</td>\n",
              "      <td>Austria</td>\n",
              "      <td>70</td>\n",
              "      <td>16</td>\n",
              "      <td>17</td>\n",
              "      <td>363.000</td>\n",
              "    </tr>\n",
              "    <tr>\n",
              "      <th>2</th>\n",
              "      <td>1938</td>\n",
              "      <td>France</td>\n",
              "      <td>Italy</td>\n",
              "      <td>Hungary</td>\n",
              "      <td>Brazil</td>\n",
              "      <td>Sweden</td>\n",
              "      <td>84</td>\n",
              "      <td>15</td>\n",
              "      <td>18</td>\n",
              "      <td>375.700</td>\n",
              "    </tr>\n",
              "    <tr>\n",
              "      <th>3</th>\n",
              "      <td>1950</td>\n",
              "      <td>Brazil</td>\n",
              "      <td>Uruguay</td>\n",
              "      <td>Brazil</td>\n",
              "      <td>Sweden</td>\n",
              "      <td>Spain</td>\n",
              "      <td>88</td>\n",
              "      <td>13</td>\n",
              "      <td>22</td>\n",
              "      <td>1.045.246</td>\n",
              "    </tr>\n",
              "    <tr>\n",
              "      <th>4</th>\n",
              "      <td>1954</td>\n",
              "      <td>Switzerland</td>\n",
              "      <td>Germany</td>\n",
              "      <td>Hungary</td>\n",
              "      <td>Austria</td>\n",
              "      <td>Uruguay</td>\n",
              "      <td>140</td>\n",
              "      <td>16</td>\n",
              "      <td>26</td>\n",
              "      <td>768.607</td>\n",
              "    </tr>\n",
              "  </tbody>\n",
              "</table>\n",
              "</div>\n",
              "      <button class=\"colab-df-convert\" onclick=\"convertToInteractive('df-6d03089b-48cb-4ad7-a3db-c47440d69647')\"\n",
              "              title=\"Convert this dataframe to an interactive table.\"\n",
              "              style=\"display:none;\">\n",
              "        \n",
              "  <svg xmlns=\"http://www.w3.org/2000/svg\" height=\"24px\"viewBox=\"0 0 24 24\"\n",
              "       width=\"24px\">\n",
              "    <path d=\"M0 0h24v24H0V0z\" fill=\"none\"/>\n",
              "    <path d=\"M18.56 5.44l.94 2.06.94-2.06 2.06-.94-2.06-.94-.94-2.06-.94 2.06-2.06.94zm-11 1L8.5 8.5l.94-2.06 2.06-.94-2.06-.94L8.5 2.5l-.94 2.06-2.06.94zm10 10l.94 2.06.94-2.06 2.06-.94-2.06-.94-.94-2.06-.94 2.06-2.06.94z\"/><path d=\"M17.41 7.96l-1.37-1.37c-.4-.4-.92-.59-1.43-.59-.52 0-1.04.2-1.43.59L10.3 9.45l-7.72 7.72c-.78.78-.78 2.05 0 2.83L4 21.41c.39.39.9.59 1.41.59.51 0 1.02-.2 1.41-.59l7.78-7.78 2.81-2.81c.8-.78.8-2.07 0-2.86zM5.41 20L4 18.59l7.72-7.72 1.47 1.35L5.41 20z\"/>\n",
              "  </svg>\n",
              "      </button>\n",
              "      \n",
              "  <style>\n",
              "    .colab-df-container {\n",
              "      display:flex;\n",
              "      flex-wrap:wrap;\n",
              "      gap: 12px;\n",
              "    }\n",
              "\n",
              "    .colab-df-convert {\n",
              "      background-color: #E8F0FE;\n",
              "      border: none;\n",
              "      border-radius: 50%;\n",
              "      cursor: pointer;\n",
              "      display: none;\n",
              "      fill: #1967D2;\n",
              "      height: 32px;\n",
              "      padding: 0 0 0 0;\n",
              "      width: 32px;\n",
              "    }\n",
              "\n",
              "    .colab-df-convert:hover {\n",
              "      background-color: #E2EBFA;\n",
              "      box-shadow: 0px 1px 2px rgba(60, 64, 67, 0.3), 0px 1px 3px 1px rgba(60, 64, 67, 0.15);\n",
              "      fill: #174EA6;\n",
              "    }\n",
              "\n",
              "    [theme=dark] .colab-df-convert {\n",
              "      background-color: #3B4455;\n",
              "      fill: #D2E3FC;\n",
              "    }\n",
              "\n",
              "    [theme=dark] .colab-df-convert:hover {\n",
              "      background-color: #434B5C;\n",
              "      box-shadow: 0px 1px 3px 1px rgba(0, 0, 0, 0.15);\n",
              "      filter: drop-shadow(0px 1px 2px rgba(0, 0, 0, 0.3));\n",
              "      fill: #FFFFFF;\n",
              "    }\n",
              "  </style>\n",
              "\n",
              "      <script>\n",
              "        const buttonEl =\n",
              "          document.querySelector('#df-6d03089b-48cb-4ad7-a3db-c47440d69647 button.colab-df-convert');\n",
              "        buttonEl.style.display =\n",
              "          google.colab.kernel.accessAllowed ? 'block' : 'none';\n",
              "\n",
              "        async function convertToInteractive(key) {\n",
              "          const element = document.querySelector('#df-6d03089b-48cb-4ad7-a3db-c47440d69647');\n",
              "          const dataTable =\n",
              "            await google.colab.kernel.invokeFunction('convertToInteractive',\n",
              "                                                     [key], {});\n",
              "          if (!dataTable) return;\n",
              "\n",
              "          const docLinkHtml = 'Like what you see? Visit the ' +\n",
              "            '<a target=\"_blank\" href=https://colab.research.google.com/notebooks/data_table.ipynb>data table notebook</a>'\n",
              "            + ' to learn more about interactive tables.';\n",
              "          element.innerHTML = '';\n",
              "          dataTable['output_type'] = 'display_data';\n",
              "          await google.colab.output.renderOutput(dataTable, element);\n",
              "          const docLink = document.createElement('div');\n",
              "          docLink.innerHTML = docLinkHtml;\n",
              "          element.appendChild(docLink);\n",
              "        }\n",
              "      </script>\n",
              "    </div>\n",
              "  </div>\n",
              "  "
            ]
          },
          "metadata": {},
          "execution_count": 73
        }
      ]
    },
    {
      "cell_type": "markdown",
      "source": [
        "**Limpeza de dados**"
      ],
      "metadata": {
        "id": "pNMWeBVABW86"
      }
    },
    {
      "cell_type": "code",
      "source": [
        "matches.dropna(subset=['Year'], inplace=True)"
      ],
      "metadata": {
        "id": "dGxJrKmr-SZw"
      },
      "execution_count": 30,
      "outputs": []
    },
    {
      "cell_type": "code",
      "source": [
        "matches['TotalGols'] = matches['Home Team Goals'] + matches['Away Team Goals']"
      ],
      "metadata": {
        "id": "yiBjTLec-VM9"
      },
      "execution_count": 31,
      "outputs": []
    },
    {
      "cell_type": "code",
      "source": [
        "matches['Home Team Name'].value_counts()"
      ],
      "metadata": {
        "colab": {
          "base_uri": "https://localhost:8080/"
        },
        "id": "XtORp-75-XIb",
        "outputId": "44fce0a3-a1d6-45e6-d1fc-66b3e506eff4"
      },
      "execution_count": 74,
      "outputs": [
        {
          "output_type": "execute_result",
          "data": {
            "text/plain": [
              "Brazil                    82\n",
              "Germany                   77\n",
              "Italy                     57\n",
              "Argentina                 54\n",
              "England                   35\n",
              "                          ..\n",
              "Wales                      1\n",
              "Norway                     1\n",
              "United Arab Emirates       1\n",
              "Haiti                      1\n",
              "Bosnia and Herzegovina     1\n",
              "Name: Home Team Name, Length: 77, dtype: int64"
            ]
          },
          "metadata": {},
          "execution_count": 74
        }
      ]
    },
    {
      "cell_type": "code",
      "source": [
        "# Como vimos que na tabela matches alguns países na coluna 'Home Team Name' possúi a string 'rn\">'\n",
        "# vamos removemos esses caracteres\n",
        "\n",
        "names = matches[matches['Home Team Name'].str.contains('rn\">')]['Home Team Name'].value_counts()\n",
        "wrong = list(names.index)\n",
        "correct = [name.split('>')[1] for name in wrong]\n",
        "correct"
      ],
      "metadata": {
        "colab": {
          "base_uri": "https://localhost:8080/"
        },
        "id": "Kk-pRlOx-bsR",
        "outputId": "c9091bbf-1fc0-4766-80ff-38cbbe1278e1"
      },
      "execution_count": 76,
      "outputs": [
        {
          "output_type": "execute_result",
          "data": {
            "text/plain": [
              "[]"
            ]
          },
          "metadata": {},
          "execution_count": 76
        }
      ]
    },
    {
      "cell_type": "code",
      "source": [
        "# Verificamos também que temos alguns caracteres especiais como nesse caso o 'ã' em todas as nossas tabelas\n",
        "\n",
        "old_name = ['Germany FR', 'Maracan� - Est�dio Jornalista M�rio Filho', 'Estadio do Maracana']\n",
        "new_name = ['Germany', 'Maracan Stadium', 'Maracan Stadium']\n",
        "\n",
        "wrong = wrong + old_name\n",
        "correct = correct + new_name\n",
        "\n",
        "#Aqui vemos como os dois ficam:\n",
        "wrong, correct"
      ],
      "metadata": {
        "colab": {
          "base_uri": "https://localhost:8080/"
        },
        "id": "Vr6RVMFl_1rx",
        "outputId": "f79bdb80-4bbf-4a7a-ef0a-e8a3bfcf1b07"
      },
      "execution_count": 77,
      "outputs": [
        {
          "output_type": "execute_result",
          "data": {
            "text/plain": [
              "(['Germany FR',\n",
              "  'Maracan� - Est�dio Jornalista M�rio Filho',\n",
              "  'Estadio do Maracana'],\n",
              " ['Germany', 'Maracan Stadium', 'Maracan Stadium'])"
            ]
          },
          "metadata": {},
          "execution_count": 77
        }
      ]
    },
    {
      "cell_type": "code",
      "source": [
        "# Agora basta rodarmos na nossa lista para todos os campos \"errados\" em suas posições sejam modificados\n",
        "# para os dados \"corretos\" na mesma posição\n",
        "\n",
        "for index, wr in enumerate(wrong):\n",
        "    world_cup = world_cup.replace(wrong[index], correct[index])\n",
        "    \n",
        "for index, wr in enumerate(wrong):\n",
        "    matches = matches.replace(wrong[index], correct[index])\n",
        "    \n",
        "for index, wr in enumerate(wrong):\n",
        "    players = players.replace(wrong[index], correct[index])"
      ],
      "metadata": {
        "id": "JCS_8gtnArbM"
      },
      "execution_count": 78,
      "outputs": []
    },
    {
      "cell_type": "code",
      "source": [
        "names = matches[matches['Home Team Name'].str.contains('rn\">')]['Home Team Name'].value_counts()\n",
        "names"
      ],
      "metadata": {
        "colab": {
          "base_uri": "https://localhost:8080/"
        },
        "id": "JeuTjYnbAydh",
        "outputId": "d65f779e-95e3-4053-9a21-5bbd6211651b"
      },
      "execution_count": 79,
      "outputs": [
        {
          "output_type": "execute_result",
          "data": {
            "text/plain": [
              "Series([], Name: Home Team Name, dtype: int64)"
            ]
          },
          "metadata": {},
          "execution_count": 79
        }
      ]
    },
    {
      "cell_type": "code",
      "source": [
        "players = players.replace([float('NaN')],'-')\n",
        "matches = matches.replace([float('NaN')],'-')\n",
        "world_cup = world_cup.replace([float('NaN')],'-')"
      ],
      "metadata": {
        "id": "ikjTdvOIBCKS"
      },
      "execution_count": 80,
      "outputs": []
    },
    {
      "cell_type": "markdown",
      "source": [
        "**Visualização dos dados em relação as copas anteriores**"
      ],
      "metadata": {
        "id": "P-ShCLR5BNTQ"
      }
    },
    {
      "cell_type": "code",
      "source": [
        "# Seleções participantes\n",
        "plt.figure(figsize=(15,4))\n",
        "sns.barplot(x='Year',y='QualifiedTeams', data=world_cup)\n",
        "plt.title(\"Quantidade de seleções participantes\",color='black')\n",
        "plt.show()"
      ],
      "metadata": {
        "colab": {
          "base_uri": "https://localhost:8080/",
          "height": 295
        },
        "id": "sY3uihZWBaLo",
        "outputId": "f8e2bdfe-4ae3-4bde-9265-ba81f33c1203"
      },
      "execution_count": 81,
      "outputs": [
        {
          "output_type": "display_data",
          "data": {
            "text/plain": [
              "<Figure size 1080x288 with 1 Axes>"
            ],
            "image/png": "[encoded data removed]"
          },
          "metadata": {
            "needs_background": "light"
          }
        }
      ]
    },
    {
      "cell_type": "markdown",
      "source": [
        "Ao longo das edições das copas é possível perceber que o número de seleções participantes aumentou. Destaque para 1998, primeira edição com 32 participantes, quantidade mantida até hoje."
      ],
      "metadata": {
        "id": "r2sZAsPVBpBy"
      }
    },
    {
      "cell_type": "code",
      "source": [
        "# Quantidade de partidas disputadas por copa do mundo\n",
        "plt.figure(figsize=(15,4))\n",
        "sns.pointplot(x='Year', y ='MatchesPlayed', data=world_cup, color=\"orange\")\n",
        "plt.grid(True,color=\"grey\",alpha=.3)\n",
        "plt.title(\"Quantidade de partidas por copa do mundo\",color='black')\n",
        "plt.show()"
      ],
      "metadata": {
        "colab": {
          "base_uri": "https://localhost:8080/",
          "height": 295
        },
        "id": "QTRNz8_eBwA_",
        "outputId": "44d08f52-01ca-4127-ce86-6393550d7f49"
      },
      "execution_count": 82,
      "outputs": [
        {
          "output_type": "display_data",
          "data": {
            "text/plain": [
              "<Figure size 1080x288 with 1 Axes>"
            ],
            "image/png": "[encoded data removed]"
          },
          "metadata": {
            "needs_background": "light"
          }
        }
      ]
    },
    {
      "cell_type": "code",
      "source": [
        "# Média de gols por copa do mundo\n",
        "plt.figure(figsize=(15,5))\n",
        "sns.boxplot(matches['Year'], matches['TotalGols'])\n",
        "plt.title(\"Média de gols\",color='black')\n",
        "plt.xticks(rotation=90)\n",
        "plt.show()"
      ],
      "metadata": {
        "colab": {
          "base_uri": "https://localhost:8080/",
          "height": 464
        },
        "id": "nWBmokULCVAe",
        "outputId": "6ec03361-6115-45d0-e737-3e7655f3c028"
      },
      "execution_count": 83,
      "outputs": [
        {
          "output_type": "stream",
          "name": "stderr",
          "text": [
            "/usr/local/lib/python3.8/dist-packages/seaborn/_decorators.py:36: FutureWarning:\n",
            "\n",
            "Pass the following variables as keyword args: x, y. From version 0.12, the only valid positional argument will be `data`, and passing other arguments without an explicit keyword will result in an error or misinterpretation.\n",
            "\n"
          ]
        },
        {
          "output_type": "display_data",
          "data": {
            "text/plain": [
              "<Figure size 1080x360 with 1 Axes>"
            ],
            "image/png": "[encoded data removed]"
          },
          "metadata": {
            "needs_background": "light"
          }
        }
      ]
    },
    {
      "cell_type": "code",
      "source": [
        "# Quantidade de gols marcados por copa do mundo\n",
        "plt.figure(figsize=(15,5))\n",
        "sns.pointplot(x='Year', y ='GoalsScored', data=world_cup, color=\"green\")\n",
        "plt.grid(True,color=\"grey\",alpha=.3)\n",
        "plt.title(\"Quantidade de gols marcados por copa do mundo\",color='black')\n",
        "plt.show()"
      ],
      "metadata": {
        "colab": {
          "base_uri": "https://localhost:8080/",
          "height": 350
        },
        "id": "ScP4jouxCnoP",
        "outputId": "ceedc4f4-dddf-49ef-b656-7de05b817750"
      },
      "execution_count": 84,
      "outputs": [
        {
          "output_type": "display_data",
          "data": {
            "text/plain": [
              "<Figure size 1080x360 with 1 Axes>"
            ],
            "image/png": "[encoded data removed]"
          },
          "metadata": {
            "needs_background": "light"
          }
        }
      ]
    },
    {
      "cell_type": "code",
      "source": [
        "# Total de gols por seleção\n",
        "gols_casa = matches.groupby(\"Home Team Name\")[\"Home Team Goals\"].sum().reset_index()\n",
        "gols_casa.columns = [\"selecao\",\"gols\"]\n",
        "gols_fora = matches.groupby(\"Away Team Name\")[\"Away Team Goals\"].sum().reset_index()\n",
        "gols_fora.columns = [\"selecao\",\"gols\"]\n",
        "gols = pd.concat([gols_casa, gols_fora],axis=0)\n",
        "gols = gols.groupby(\"selecao\")[\"gols\"].sum().reset_index()\n",
        "gols = gols.sort_values(by=\"gols\",ascending =False)\n",
        "gols[\"gols\"] = gols[\"gols\"].astype(int)\n",
        "\n",
        "plt.figure(figsize=(15,5))\n",
        "sns.barplot(x=\"selecao\",y=\"gols\", data=gols[:10])\n",
        "plt.title(\"Seleções com maior número de gols marcados\",color='black')\n",
        "plt.show()"
      ],
      "metadata": {
        "colab": {
          "base_uri": "https://localhost:8080/",
          "height": 350
        },
        "id": "t6C9swlJC_eZ",
        "outputId": "a529ac61-88b2-4376-8ddb-e4d36860c5e0"
      },
      "execution_count": 85,
      "outputs": [
        {
          "output_type": "display_data",
          "data": {
            "text/plain": [
              "<Figure size 1080x360 with 1 Axes>"
            ],
            "image/png": "[encoded data removed]"
          },
          "metadata": {
            "needs_background": "light"
          }
        }
      ]
    },
    {
      "cell_type": "code",
      "source": [
        "# maiores campeões da história da Copa do Mundo\n",
        "winner = world_cup['Winner'].value_counts()\n",
        "\n",
        "plt.figure(figsize=(15,5))\n",
        "sns.countplot(x='Winner', data=world_cup, order=winner.index)\n",
        "plt.title(\"Maiores campeões\",color='black')\n",
        "plt.show()"
      ],
      "metadata": {
        "colab": {
          "base_uri": "https://localhost:8080/",
          "height": 350
        },
        "id": "pZ8XP-PwDOfx",
        "outputId": "ac82182b-c58b-4810-daff-297486365629"
      },
      "execution_count": 86,
      "outputs": [
        {
          "output_type": "display_data",
          "data": {
            "text/plain": [
              "<Figure size 1080x360 with 1 Axes>"
            ],
            "image/png": "[encoded data removed]"
          },
          "metadata": {
            "needs_background": "light"
          }
        }
      ]
    },
    {
      "cell_type": "code",
      "source": [
        "# Já aqui podemos visualizar com um gráfico os maiores vice-campeões da história da Copa do Mundo\n",
        "runnerup = world_cup['Runners-Up'].value_counts()\n",
        "\n",
        "plt.figure(figsize=(15,5))\n",
        "sns.countplot(x='Runners-Up', data=world_cup, order=runnerup.index)\n",
        "plt.title(\"Maiores vice-campeões\",color='black')\n",
        "plt.show()"
      ],
      "metadata": {
        "colab": {
          "base_uri": "https://localhost:8080/",
          "height": 350
        },
        "id": "02NQ3USTDWfw",
        "outputId": "b3f6acaf-5981-4f3d-bfa5-f2eb79bd984a"
      },
      "execution_count": 87,
      "outputs": [
        {
          "output_type": "display_data",
          "data": {
            "text/plain": [
              "<Figure size 1080x360 with 1 Axes>"
            ],
            "image/png": "[encoded data removed]"
          },
          "metadata": {
            "needs_background": "light"
          }
        }
      ]
    },
    {
      "cell_type": "code",
      "source": [
        "# Já aqui podemos visualizar com um gráfico aqueles que ficaram mais vezes na posição de terceiro lugares \n",
        "# na história da Copa do Mundo\n",
        "third = world_cup['Third'].value_counts()\n",
        "\n",
        "plt.figure(figsize=(15,5))\n",
        "sns.countplot(x='Third', data=world_cup, order=third.index)\n",
        "plt.title(\"Maiores terceiro lugar\",color='black')\n",
        "plt.show()"
      ],
      "metadata": {
        "colab": {
          "base_uri": "https://localhost:8080/",
          "height": 350
        },
        "id": "CyzwJ4cjDZhF",
        "outputId": "a1778c61-8d7d-4906-c07e-f3fcdfb4787d"
      },
      "execution_count": 88,
      "outputs": [
        {
          "output_type": "display_data",
          "data": {
            "text/plain": [
              "<Figure size 1080x360 with 1 Axes>"
            ],
            "image/png": "[encoded data removed]"
          },
          "metadata": {
            "needs_background": "light"
          }
        }
      ]
    },
    {
      "cell_type": "code",
      "source": [
        "# Aqui, vamos concatenar as três colunas que estrutramos acima nos gráficos.\n",
        "# Além disso, transformaremos todos os campos NAN's em 0 e transformaremos todos os valores em inteiros\n",
        "teams = pd.concat([winner, runnerup, third], axis=1)\n",
        "teams.fillna(0, inplace=True)\n",
        "teams = teams.astype(int)\n",
        "teams"
      ],
      "metadata": {
        "colab": {
          "base_uri": "https://localhost:8080/",
          "height": 645
        },
        "id": "U9JYwhLVDdpA",
        "outputId": "77b695bd-3c8b-410b-a306-2b50fcb2fbe4"
      },
      "execution_count": 89,
      "outputs": [
        {
          "output_type": "execute_result",
          "data": {
            "text/plain": [
              "                Winner  Runners-Up  Third\n",
              "Brazil               5           2      2\n",
              "Italy                4           2      1\n",
              "Germany              4           4      4\n",
              "Uruguay              2           0      0\n",
              "Argentina            2           3      0\n",
              "England              1           0      0\n",
              "France               1           1      2\n",
              "Spain                1           0      0\n",
              "Netherlands          0           3      1\n",
              "Czechoslovakia       0           2      0\n",
              "Hungary              0           2      0\n",
              "Sweden               0           1      2\n",
              "Poland               0           0      2\n",
              "USA                  0           0      1\n",
              "Austria              0           0      1\n",
              "Chile                0           0      1\n",
              "Portugal             0           0      1\n",
              "Croatia              0           0      1\n",
              "Turkey               0           0      1"
            ],
            "text/html": [
              "\n",
              "  <div id=\"df-6a8a57c7-04c7-46ac-a475-c5479debf712\">\n",
              "    <div class=\"colab-df-container\">\n",
              "      <div>\n",
              "<style scoped>\n",
              "    .dataframe tbody tr th:only-of-type {\n",
              "        vertical-align: middle;\n",
              "    }\n",
              "\n",
              "    .dataframe tbody tr th {\n",
              "        vertical-align: top;\n",
              "    }\n",
              "\n",
              "    .dataframe thead th {\n",
              "        text-align: right;\n",
              "    }\n",
              "</style>\n",
              "<table border=\"1\" class=\"dataframe\">\n",
              "  <thead>\n",
              "    <tr style=\"text-align: right;\">\n",
              "      <th></th>\n",
              "      <th>Winner</th>\n",
              "      <th>Runners-Up</th>\n",
              "      <th>Third</th>\n",
              "    </tr>\n",
              "  </thead>\n",
              "  <tbody>\n",
              "    <tr>\n",
              "      <th>Brazil</th>\n",
              "      <td>5</td>\n",
              "      <td>2</td>\n",
              "      <td>2</td>\n",
              "    </tr>\n",
              "    <tr>\n",
              "      <th>Italy</th>\n",
              "      <td>4</td>\n",
              "      <td>2</td>\n",
              "      <td>1</td>\n",
              "    </tr>\n",
              "    <tr>\n",
              "      <th>Germany</th>\n",
              "      <td>4</td>\n",
              "      <td>4</td>\n",
              "      <td>4</td>\n",
              "    </tr>\n",
              "    <tr>\n",
              "      <th>Uruguay</th>\n",
              "      <td>2</td>\n",
              "      <td>0</td>\n",
              "      <td>0</td>\n",
              "    </tr>\n",
              "    <tr>\n",
              "      <th>Argentina</th>\n",
              "      <td>2</td>\n",
              "      <td>3</td>\n",
              "      <td>0</td>\n",
              "    </tr>\n",
              "    <tr>\n",
              "      <th>England</th>\n",
              "      <td>1</td>\n",
              "      <td>0</td>\n",
              "      <td>0</td>\n",
              "    </tr>\n",
              "    <tr>\n",
              "      <th>France</th>\n",
              "      <td>1</td>\n",
              "      <td>1</td>\n",
              "      <td>2</td>\n",
              "    </tr>\n",
              "    <tr>\n",
              "      <th>Spain</th>\n",
              "      <td>1</td>\n",
              "      <td>0</td>\n",
              "      <td>0</td>\n",
              "    </tr>\n",
              "    <tr>\n",
              "      <th>Netherlands</th>\n",
              "      <td>0</td>\n",
              "      <td>3</td>\n",
              "      <td>1</td>\n",
              "    </tr>\n",
              "    <tr>\n",
              "      <th>Czechoslovakia</th>\n",
              "      <td>0</td>\n",
              "      <td>2</td>\n",
              "      <td>0</td>\n",
              "    </tr>\n",
              "    <tr>\n",
              "      <th>Hungary</th>\n",
              "      <td>0</td>\n",
              "      <td>2</td>\n",
              "      <td>0</td>\n",
              "    </tr>\n",
              "    <tr>\n",
              "      <th>Sweden</th>\n",
              "      <td>0</td>\n",
              "      <td>1</td>\n",
              "      <td>2</td>\n",
              "    </tr>\n",
              "    <tr>\n",
              "      <th>Poland</th>\n",
              "      <td>0</td>\n",
              "      <td>0</td>\n",
              "      <td>2</td>\n",
              "    </tr>\n",
              "    <tr>\n",
              "      <th>USA</th>\n",
              "      <td>0</td>\n",
              "      <td>0</td>\n",
              "      <td>1</td>\n",
              "    </tr>\n",
              "    <tr>\n",
              "      <th>Austria</th>\n",
              "      <td>0</td>\n",
              "      <td>0</td>\n",
              "      <td>1</td>\n",
              "    </tr>\n",
              "    <tr>\n",
              "      <th>Chile</th>\n",
              "      <td>0</td>\n",
              "      <td>0</td>\n",
              "      <td>1</td>\n",
              "    </tr>\n",
              "    <tr>\n",
              "      <th>Portugal</th>\n",
              "      <td>0</td>\n",
              "      <td>0</td>\n",
              "      <td>1</td>\n",
              "    </tr>\n",
              "    <tr>\n",
              "      <th>Croatia</th>\n",
              "      <td>0</td>\n",
              "      <td>0</td>\n",
              "      <td>1</td>\n",
              "    </tr>\n",
              "    <tr>\n",
              "      <th>Turkey</th>\n",
              "      <td>0</td>\n",
              "      <td>0</td>\n",
              "      <td>1</td>\n",
              "    </tr>\n",
              "  </tbody>\n",
              "</table>\n",
              "</div>\n",
              "      <button class=\"colab-df-convert\" onclick=\"convertToInteractive('df-6a8a57c7-04c7-46ac-a475-c5479debf712')\"\n",
              "              title=\"Convert this dataframe to an interactive table.\"\n",
              "              style=\"display:none;\">\n",
              "        \n",
              "  <svg xmlns=\"http://www.w3.org/2000/svg\" height=\"24px\"viewBox=\"0 0 24 24\"\n",
              "       width=\"24px\">\n",
              "    <path d=\"M0 0h24v24H0V0z\" fill=\"none\"/>\n",
              "    <path d=\"M18.56 5.44l.94 2.06.94-2.06 2.06-.94-2.06-.94-.94-2.06-.94 2.06-2.06.94zm-11 1L8.5 8.5l.94-2.06 2.06-.94-2.06-.94L8.5 2.5l-.94 2.06-2.06.94zm10 10l.94 2.06.94-2.06 2.06-.94-2.06-.94-.94-2.06-.94 2.06-2.06.94z\"/><path d=\"M17.41 7.96l-1.37-1.37c-.4-.4-.92-.59-1.43-.59-.52 0-1.04.2-1.43.59L10.3 9.45l-7.72 7.72c-.78.78-.78 2.05 0 2.83L4 21.41c.39.39.9.59 1.41.59.51 0 1.02-.2 1.41-.59l7.78-7.78 2.81-2.81c.8-.78.8-2.07 0-2.86zM5.41 20L4 18.59l7.72-7.72 1.47 1.35L5.41 20z\"/>\n",
              "  </svg>\n",
              "      </button>\n",
              "      \n",
              "  <style>\n",
              "    .colab-df-container {\n",
              "      display:flex;\n",
              "      flex-wrap:wrap;\n",
              "      gap: 12px;\n",
              "    }\n",
              "\n",
              "    .colab-df-convert {\n",
              "      background-color: #E8F0FE;\n",
              "      border: none;\n",
              "      border-radius: 50%;\n",
              "      cursor: pointer;\n",
              "      display: none;\n",
              "      fill: #1967D2;\n",
              "      height: 32px;\n",
              "      padding: 0 0 0 0;\n",
              "      width: 32px;\n",
              "    }\n",
              "\n",
              "    .colab-df-convert:hover {\n",
              "      background-color: #E2EBFA;\n",
              "      box-shadow: 0px 1px 2px rgba(60, 64, 67, 0.3), 0px 1px 3px 1px rgba(60, 64, 67, 0.15);\n",
              "      fill: #174EA6;\n",
              "    }\n",
              "\n",
              "    [theme=dark] .colab-df-convert {\n",
              "      background-color: #3B4455;\n",
              "      fill: #D2E3FC;\n",
              "    }\n",
              "\n",
              "    [theme=dark] .colab-df-convert:hover {\n",
              "      background-color: #434B5C;\n",
              "      box-shadow: 0px 1px 3px 1px rgba(0, 0, 0, 0.15);\n",
              "      filter: drop-shadow(0px 1px 2px rgba(0, 0, 0, 0.3));\n",
              "      fill: #FFFFFF;\n",
              "    }\n",
              "  </style>\n",
              "\n",
              "      <script>\n",
              "        const buttonEl =\n",
              "          document.querySelector('#df-6a8a57c7-04c7-46ac-a475-c5479debf712 button.colab-df-convert');\n",
              "        buttonEl.style.display =\n",
              "          google.colab.kernel.accessAllowed ? 'block' : 'none';\n",
              "\n",
              "        async function convertToInteractive(key) {\n",
              "          const element = document.querySelector('#df-6a8a57c7-04c7-46ac-a475-c5479debf712');\n",
              "          const dataTable =\n",
              "            await google.colab.kernel.invokeFunction('convertToInteractive',\n",
              "                                                     [key], {});\n",
              "          if (!dataTable) return;\n",
              "\n",
              "          const docLinkHtml = 'Like what you see? Visit the ' +\n",
              "            '<a target=\"_blank\" href=https://colab.research.google.com/notebooks/data_table.ipynb>data table notebook</a>'\n",
              "            + ' to learn more about interactive tables.';\n",
              "          element.innerHTML = '';\n",
              "          dataTable['output_type'] = 'display_data';\n",
              "          await google.colab.output.renderOutput(dataTable, element);\n",
              "          const docLink = document.createElement('div');\n",
              "          docLink.innerHTML = docLinkHtml;\n",
              "          element.appendChild(docLink);\n",
              "        }\n",
              "      </script>\n",
              "    </div>\n",
              "  </div>\n",
              "  "
            ]
          },
          "metadata": {},
          "execution_count": 89
        }
      ]
    }
  ]
}